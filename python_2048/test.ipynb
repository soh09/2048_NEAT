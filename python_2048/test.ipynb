{
 "cells": [
  {
   "cell_type": "code",
   "execution_count": 1,
   "metadata": {},
   "outputs": [],
   "source": [
    "import sys\n",
    "import os\n",
    "sys.path.append(os.path.abspath(os.path.join('..')))"
   ]
  },
  {
   "cell_type": "code",
   "execution_count": 2,
   "metadata": {},
   "outputs": [],
   "source": [
    "from twenty_forty_eight import Game\n",
    "%load_ext autoreload\n",
    "%autoreload 2"
   ]
  },
  {
   "cell_type": "code",
   "execution_count": 10,
   "metadata": {},
   "outputs": [
    {
     "name": "stdout",
     "output_type": "stream",
     "text": [
      "[[0, 0, 0, 0]\n",
      " [0, 0, 0, 0]\n",
      " [0, 0, 0, 0]\n",
      " [2, 2, 0, 0]] 1\n",
      "\n"
     ]
    }
   ],
   "source": [
    "a = Game()\n",
    "prev = a.get_board()\n",
    "while True:\n",
    "    try: # try to continue playing the game \n",
    "        print(a, a.combined)\n",
    "        print()\n",
    "        a.do_next_move_and_track('down')\n",
    "        if a.get_board() == prev:\n",
    "            break\n",
    "        else:\n",
    "            a.generate_next()\n",
    "            prev = a.get_board()\n",
    "    except:\n",
    "        break"
   ]
  },
  {
   "cell_type": "code",
   "execution_count": null,
   "metadata": {},
   "outputs": [],
   "source": []
  }
 ],
 "metadata": {
  "kernelspec": {
   "display_name": "2048ai",
   "language": "python",
   "name": "python3"
  },
  "language_info": {
   "codemirror_mode": {
    "name": "ipython",
    "version": 3
   },
   "file_extension": ".py",
   "mimetype": "text/x-python",
   "name": "python",
   "nbconvert_exporter": "python",
   "pygments_lexer": "ipython3",
   "version": "3.12.3"
  }
 },
 "nbformat": 4,
 "nbformat_minor": 2
}
