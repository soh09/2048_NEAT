{
 "cells": [
  {
   "cell_type": "code",
   "execution_count": 104,
   "metadata": {},
   "outputs": [
    {
     "name": "stdout",
     "output_type": "stream",
     "text": [
      "The autoreload extension is already loaded. To reload it, use:\n",
      "  %reload_ext autoreload\n"
     ]
    }
   ],
   "source": [
    "%load_ext autoreload\n",
    "%autoreload 2\n",
    "\n",
    "from LSD import LSD\n",
    "import nn_old"
   ]
  },
  {
   "cell_type": "code",
   "execution_count": 105,
   "metadata": {},
   "outputs": [],
   "source": [
    "def dupe_neuron(id, bias):\n",
    "    return nn_old.NeuronGene(id, bias), nn_old.NeuronGene(id, bias + 0.1)"
   ]
  },
  {
   "cell_type": "code",
   "execution_count": 106,
   "metadata": {},
   "outputs": [],
   "source": [
    "a1, a2 = dupe_neuron(1, 0.5)\n",
    "b1, b2 = dupe_neuron(2, 0.5)\n",
    "c1, c2 = dupe_neuron(3, 0.5)\n",
    "d1, d2 = dupe_neuron(4, 0.5)\n",
    "e1, e2 = dupe_neuron(5, 0.5)\n",
    "f1, f2 = dupe_neuron(6, 0.5)"
   ]
  },
  {
   "cell_type": "code",
   "execution_count": 129,
   "metadata": {},
   "outputs": [
    {
     "data": {
      "text/plain": [
       "[[NeuronGene 1] Bias: 0.5, [NeuronGene 2] Bias: 0.5, [NeuronGene 3] Bias: 0.5, [NeuronGene 4] Bias: 0.5, [NeuronGene 5] Bias: 0.5, [NeuronGene 6] Bias: 0.5]"
      ]
     },
     "execution_count": 129,
     "metadata": {},
     "output_type": "execute_result"
    }
   ],
   "source": [
    "z1 = LSD([a1, b1, c1, d1, e1, f1])\n",
    "z1"
   ]
  },
  {
   "cell_type": "code",
   "execution_count": 149,
   "metadata": {},
   "outputs": [],
   "source": [
    "z2 = LSD([])"
   ]
  },
  {
   "cell_type": "code",
   "execution_count": 114,
   "metadata": {},
   "outputs": [],
   "source": [
    "def dupe_neuron(id, bias):\n",
    "    return nn_old.NeuronGene(id, bias), nn_old.NeuronGene(id, bias + 0.1)\n",
    "\n",
    "def dupe_synapse(n1a, n1b, n2a, n2b, id, weight, is_on):\n",
    "    return nn_old.SynapseGene(id, n1a, n1b, weight, is_on), nn_old.SynapseGene(id, n2a, n2b, weight + 0.1, is_on)\n",
    "\n",
    "def make_two_nets():\n",
    "    a1, a2 = dupe_neuron(1, 0.5)\n",
    "    b1, b2 = dupe_neuron(2, 0.5)\n",
    "    c1, c2 = dupe_neuron(3, 0.5)\n",
    "    d1, d2 = dupe_neuron(4, 0.5)\n",
    "    e1, e2 = dupe_neuron(5, 0.5)\n",
    "    f1, f2 = dupe_neuron(6, 0.5)\n",
    "    ad1, ad2 = dupe_synapse(a1, d1, a2, d2, 1, 0.5, True)\n",
    "    bd1, bd2 = dupe_synapse(b1, d1, b2, d2, 2, 0.5, True)\n",
    "    cd1, cd2 = dupe_synapse(c1, d1, c2, d2, 3, 0.5, False)\n",
    "    ce1, ce2 = dupe_synapse(c1, e1, c2, e2, 4, 0.5, True)\n",
    "    df1, df2 = dupe_synapse(d1, f1, d2, f2, 5, 0.5, True)\n",
    "    ef1, ef2 = dupe_synapse(e1, f1, e2, f2, 6, 0.5, True)\n",
    "    genome1 = nn_old.NetworkGenome([a1, b1, c1], [f1], [d1, e1], [ad1, bd1, cd1, ce1, df1, ef1])\n",
    "    genome2 = nn_old.NetworkGenome([a2, b2, c2], [f2], [d2, e2], [ad2, bd2, cd2, ce2, df2, ef2])\n",
    "    net1 = nn_old.Network(genome1)\n",
    "    net2 = nn_old.Network(genome2)\n",
    "    return net1, net2\n",
    "\n",
    "n1, n2 = make_two_nets()"
   ]
  },
  {
   "cell_type": "code",
   "execution_count": 115,
   "metadata": {},
   "outputs": [
    {
     "data": {
      "text/plain": [
       "[[NeuronGene 1] Bias: 0.5, [NeuronGene 2] Bias: 0.5, [NeuronGene 3] Bias: 0.5, [NeuronGene 6] Bias: 0.5, [NeuronGene 4] Bias: 0.5, [NeuronGene 5] Bias: 0.5]"
      ]
     },
     "execution_count": 115,
     "metadata": {},
     "output_type": "execute_result"
    }
   ],
   "source": [
    "n1_g = n1.genome\n",
    "\n",
    "z = LSD(n1_g.all_neuron_genes)\n",
    "z"
   ]
  },
  {
   "cell_type": "code",
   "execution_count": null,
   "metadata": {},
   "outputs": [],
   "source": []
  }
 ],
 "metadata": {
  "kernelspec": {
   "display_name": "2048ai",
   "language": "python",
   "name": "python3"
  },
  "language_info": {
   "codemirror_mode": {
    "name": "ipython",
    "version": 3
   },
   "file_extension": ".py",
   "mimetype": "text/x-python",
   "name": "python",
   "nbconvert_exporter": "python",
   "pygments_lexer": "ipython3",
   "version": "3.12.3"
  }
 },
 "nbformat": 4,
 "nbformat_minor": 2
}
